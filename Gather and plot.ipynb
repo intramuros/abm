{
 "cells": [
  {
   "cell_type": "markdown",
   "metadata": {},
   "source": [
    "# This notebook provides analysis tools for the Dryland Dynamics model.\n",
    "\n",
    "## The implementation of the model is in the ``ecosystem/`` folder, that includes Python files and a .json files with initial parameters. \n",
    "\n",
    "The dryland dynamics model is an agent-based simulation of spatial dynamics of vegetation in arid conditions. The environment is a grid of cells, representing a square piece of land. Each cell can either be degraded {-}, empty (unoccupied) {0} or vegetated {+}. The possible transitions are:\n",
    "\n",
    "    degraded to empty: {-} to {0}\n",
    "    empty to degraded: {0} to {-}\n",
    "    empty to vegetated: {0} to {+}\n",
    "    vegetated to empty: {+} to {0}\n",
    "In this notebook some basic properties of the model are studied including density of vegetated states, flowlength, and clustering behaviour."
   ]
  },
  {
   "cell_type": "code",
   "execution_count": 39,
   "metadata": {
    "collapsed": true
   },
   "outputs": [],
   "source": [
    "# Import the model and necessary packages\n",
    "from ecosystem.model import EcoModel\n",
    "import pandas as pd\n",
    "import time\n"
   ]
  },
  {
   "cell_type": "code",
   "execution_count": 41,
   "metadata": {
    "scrolled": true
   },
   "outputs": [
    {
     "name": "stdout",
     "output_type": "stream",
     "text": [
      "10.66927719116211\n"
     ]
    }
   ],
   "source": [
    "b = 0.4  # establishment probability\n",
    "m = 0.1  # mortality rate\n",
    "\n",
    "model = EcoModel(0.4, 0.1, \"ecosystem/config_file.json\")\n",
    "\n",
    "num_steps = 20 # number of simulation steps\n",
    "\n",
    "start_time = time.time()\n",
    "for i in range(num_steps):\n",
    "    model.step()\n",
    "    \n",
    "print(time.time()-start_time)"
   ]
  },
  {
   "cell_type": "code",
   "execution_count": 42,
   "metadata": {
    "scrolled": true
   },
   "outputs": [
    {
     "data": {
      "text/html": [
       "<div>\n",
       "<style scoped>\n",
       "    .dataframe tbody tr th:only-of-type {\n",
       "        vertical-align: middle;\n",
       "    }\n",
       "\n",
       "    .dataframe tbody tr th {\n",
       "        vertical-align: top;\n",
       "    }\n",
       "\n",
       "    .dataframe thead th {\n",
       "        text-align: right;\n",
       "    }\n",
       "</style>\n",
       "<table border=\"1\" class=\"dataframe\">\n",
       "  <thead>\n",
       "    <tr style=\"text-align: right;\">\n",
       "      <th></th>\n",
       "      <th>Degraded</th>\n",
       "      <th>Empty</th>\n",
       "      <th>Vegetated</th>\n",
       "      <th>b</th>\n",
       "      <th>flowlength</th>\n",
       "      <th>qminusminus</th>\n",
       "      <th>qminusplus</th>\n",
       "      <th>qplusplus</th>\n",
       "    </tr>\n",
       "  </thead>\n",
       "  <tbody>\n",
       "    <tr>\n",
       "      <th>0</th>\n",
       "      <td>3978</td>\n",
       "      <td>3992</td>\n",
       "      <td>2030</td>\n",
       "      <td>0.369584</td>\n",
       "      <td>2.043221</td>\n",
       "      <td>0.797679</td>\n",
       "      <td>0.389491</td>\n",
       "      <td>0.205911</td>\n",
       "    </tr>\n",
       "    <tr>\n",
       "      <th>1</th>\n",
       "      <td>3611</td>\n",
       "      <td>4292</td>\n",
       "      <td>2097</td>\n",
       "      <td>0.370028</td>\n",
       "      <td>2.013408</td>\n",
       "      <td>0.803703</td>\n",
       "      <td>0.279844</td>\n",
       "      <td>0.260412</td>\n",
       "    </tr>\n",
       "    <tr>\n",
       "      <th>2</th>\n",
       "      <td>3466</td>\n",
       "      <td>4341</td>\n",
       "      <td>2193</td>\n",
       "      <td>0.369416</td>\n",
       "      <td>2.054506</td>\n",
       "      <td>0.806285</td>\n",
       "      <td>0.232786</td>\n",
       "      <td>0.310496</td>\n",
       "    </tr>\n",
       "    <tr>\n",
       "      <th>3</th>\n",
       "      <td>3399</td>\n",
       "      <td>4294</td>\n",
       "      <td>2307</td>\n",
       "      <td>0.369407</td>\n",
       "      <td>2.055142</td>\n",
       "      <td>0.805278</td>\n",
       "      <td>0.207051</td>\n",
       "      <td>0.351141</td>\n",
       "    </tr>\n",
       "    <tr>\n",
       "      <th>4</th>\n",
       "      <td>3331</td>\n",
       "      <td>4286</td>\n",
       "      <td>2383</td>\n",
       "      <td>0.370001</td>\n",
       "      <td>2.015216</td>\n",
       "      <td>0.803564</td>\n",
       "      <td>0.190446</td>\n",
       "      <td>0.372395</td>\n",
       "    </tr>\n",
       "    <tr>\n",
       "      <th>5</th>\n",
       "      <td>3330</td>\n",
       "      <td>4217</td>\n",
       "      <td>2453</td>\n",
       "      <td>0.370543</td>\n",
       "      <td>1.978830</td>\n",
       "      <td>0.803763</td>\n",
       "      <td>0.182701</td>\n",
       "      <td>0.396827</td>\n",
       "    </tr>\n",
       "    <tr>\n",
       "      <th>6</th>\n",
       "      <td>3342</td>\n",
       "      <td>4140</td>\n",
       "      <td>2518</td>\n",
       "      <td>0.370785</td>\n",
       "      <td>1.962525</td>\n",
       "      <td>0.802314</td>\n",
       "      <td>0.173319</td>\n",
       "      <td>0.413092</td>\n",
       "    </tr>\n",
       "    <tr>\n",
       "      <th>7</th>\n",
       "      <td>3288</td>\n",
       "      <td>4106</td>\n",
       "      <td>2606</td>\n",
       "      <td>0.371238</td>\n",
       "      <td>1.932116</td>\n",
       "      <td>0.798474</td>\n",
       "      <td>0.159568</td>\n",
       "      <td>0.428243</td>\n",
       "    </tr>\n",
       "    <tr>\n",
       "      <th>8</th>\n",
       "      <td>3288</td>\n",
       "      <td>3993</td>\n",
       "      <td>2719</td>\n",
       "      <td>0.372090</td>\n",
       "      <td>1.874887</td>\n",
       "      <td>0.795232</td>\n",
       "      <td>0.156185</td>\n",
       "      <td>0.451729</td>\n",
       "    </tr>\n",
       "    <tr>\n",
       "      <th>9</th>\n",
       "      <td>3267</td>\n",
       "      <td>3976</td>\n",
       "      <td>2757</td>\n",
       "      <td>0.372930</td>\n",
       "      <td>1.818488</td>\n",
       "      <td>0.793594</td>\n",
       "      <td>0.148803</td>\n",
       "      <td>0.457623</td>\n",
       "    </tr>\n",
       "    <tr>\n",
       "      <th>10</th>\n",
       "      <td>3257</td>\n",
       "      <td>3913</td>\n",
       "      <td>2830</td>\n",
       "      <td>0.373274</td>\n",
       "      <td>1.795365</td>\n",
       "      <td>0.788784</td>\n",
       "      <td>0.147055</td>\n",
       "      <td>0.464635</td>\n",
       "    </tr>\n",
       "    <tr>\n",
       "      <th>11</th>\n",
       "      <td>3271</td>\n",
       "      <td>3822</td>\n",
       "      <td>2907</td>\n",
       "      <td>0.374116</td>\n",
       "      <td>1.738793</td>\n",
       "      <td>0.783284</td>\n",
       "      <td>0.151846</td>\n",
       "      <td>0.471162</td>\n",
       "    </tr>\n",
       "    <tr>\n",
       "      <th>12</th>\n",
       "      <td>3258</td>\n",
       "      <td>3778</td>\n",
       "      <td>2964</td>\n",
       "      <td>0.375013</td>\n",
       "      <td>1.678555</td>\n",
       "      <td>0.779148</td>\n",
       "      <td>0.148279</td>\n",
       "      <td>0.475512</td>\n",
       "    </tr>\n",
       "    <tr>\n",
       "      <th>13</th>\n",
       "      <td>3216</td>\n",
       "      <td>3757</td>\n",
       "      <td>3027</td>\n",
       "      <td>0.375656</td>\n",
       "      <td>1.635347</td>\n",
       "      <td>0.774535</td>\n",
       "      <td>0.144890</td>\n",
       "      <td>0.480426</td>\n",
       "    </tr>\n",
       "    <tr>\n",
       "      <th>14</th>\n",
       "      <td>3181</td>\n",
       "      <td>3747</td>\n",
       "      <td>3072</td>\n",
       "      <td>0.376345</td>\n",
       "      <td>1.589071</td>\n",
       "      <td>0.772229</td>\n",
       "      <td>0.140761</td>\n",
       "      <td>0.486084</td>\n",
       "    </tr>\n",
       "    <tr>\n",
       "      <th>15</th>\n",
       "      <td>3149</td>\n",
       "      <td>3700</td>\n",
       "      <td>3151</td>\n",
       "      <td>0.376725</td>\n",
       "      <td>1.563556</td>\n",
       "      <td>0.768385</td>\n",
       "      <td>0.135618</td>\n",
       "      <td>0.496086</td>\n",
       "    </tr>\n",
       "    <tr>\n",
       "      <th>16</th>\n",
       "      <td>3153</td>\n",
       "      <td>3612</td>\n",
       "      <td>3235</td>\n",
       "      <td>0.377355</td>\n",
       "      <td>1.521220</td>\n",
       "      <td>0.763365</td>\n",
       "      <td>0.134673</td>\n",
       "      <td>0.505229</td>\n",
       "    </tr>\n",
       "    <tr>\n",
       "      <th>17</th>\n",
       "      <td>3082</td>\n",
       "      <td>3663</td>\n",
       "      <td>3255</td>\n",
       "      <td>0.378086</td>\n",
       "      <td>1.472084</td>\n",
       "      <td>0.763516</td>\n",
       "      <td>0.128367</td>\n",
       "      <td>0.510241</td>\n",
       "    </tr>\n",
       "    <tr>\n",
       "      <th>18</th>\n",
       "      <td>3041</td>\n",
       "      <td>3639</td>\n",
       "      <td>3320</td>\n",
       "      <td>0.378138</td>\n",
       "      <td>1.468628</td>\n",
       "      <td>0.757959</td>\n",
       "      <td>0.128865</td>\n",
       "      <td>0.513353</td>\n",
       "    </tr>\n",
       "    <tr>\n",
       "      <th>19</th>\n",
       "      <td>3014</td>\n",
       "      <td>3684</td>\n",
       "      <td>3302</td>\n",
       "      <td>0.378824</td>\n",
       "      <td>1.422507</td>\n",
       "      <td>0.759742</td>\n",
       "      <td>0.122931</td>\n",
       "      <td>0.512593</td>\n",
       "    </tr>\n",
       "    <tr>\n",
       "      <th>20</th>\n",
       "      <td>3025</td>\n",
       "      <td>3587</td>\n",
       "      <td>3388</td>\n",
       "      <td>0.378616</td>\n",
       "      <td>1.436468</td>\n",
       "      <td>0.755608</td>\n",
       "      <td>0.123942</td>\n",
       "      <td>0.522998</td>\n",
       "    </tr>\n",
       "  </tbody>\n",
       "</table>\n",
       "</div>"
      ],
      "text/plain": [
       "    Degraded  Empty  Vegetated         b  flowlength  qminusminus  qminusplus  \\\n",
       "0       3978   3992       2030  0.369584    2.043221     0.797679    0.389491   \n",
       "1       3611   4292       2097  0.370028    2.013408     0.803703    0.279844   \n",
       "2       3466   4341       2193  0.369416    2.054506     0.806285    0.232786   \n",
       "3       3399   4294       2307  0.369407    2.055142     0.805278    0.207051   \n",
       "4       3331   4286       2383  0.370001    2.015216     0.803564    0.190446   \n",
       "5       3330   4217       2453  0.370543    1.978830     0.803763    0.182701   \n",
       "6       3342   4140       2518  0.370785    1.962525     0.802314    0.173319   \n",
       "7       3288   4106       2606  0.371238    1.932116     0.798474    0.159568   \n",
       "8       3288   3993       2719  0.372090    1.874887     0.795232    0.156185   \n",
       "9       3267   3976       2757  0.372930    1.818488     0.793594    0.148803   \n",
       "10      3257   3913       2830  0.373274    1.795365     0.788784    0.147055   \n",
       "11      3271   3822       2907  0.374116    1.738793     0.783284    0.151846   \n",
       "12      3258   3778       2964  0.375013    1.678555     0.779148    0.148279   \n",
       "13      3216   3757       3027  0.375656    1.635347     0.774535    0.144890   \n",
       "14      3181   3747       3072  0.376345    1.589071     0.772229    0.140761   \n",
       "15      3149   3700       3151  0.376725    1.563556     0.768385    0.135618   \n",
       "16      3153   3612       3235  0.377355    1.521220     0.763365    0.134673   \n",
       "17      3082   3663       3255  0.378086    1.472084     0.763516    0.128367   \n",
       "18      3041   3639       3320  0.378138    1.468628     0.757959    0.128865   \n",
       "19      3014   3684       3302  0.378824    1.422507     0.759742    0.122931   \n",
       "20      3025   3587       3388  0.378616    1.436468     0.755608    0.123942   \n",
       "\n",
       "    qplusplus  \n",
       "0    0.205911  \n",
       "1    0.260412  \n",
       "2    0.310496  \n",
       "3    0.351141  \n",
       "4    0.372395  \n",
       "5    0.396827  \n",
       "6    0.413092  \n",
       "7    0.428243  \n",
       "8    0.451729  \n",
       "9    0.457623  \n",
       "10   0.464635  \n",
       "11   0.471162  \n",
       "12   0.475512  \n",
       "13   0.480426  \n",
       "14   0.486084  \n",
       "15   0.496086  \n",
       "16   0.505229  \n",
       "17   0.510241  \n",
       "18   0.513353  \n",
       "19   0.512593  \n",
       "20   0.522998  "
      ]
     },
     "execution_count": 42,
     "metadata": {},
     "output_type": "execute_result"
    }
   ],
   "source": [
    "stats = model.datacollector.get_model_vars_dataframe()\n",
    "stats"
   ]
  },
  {
   "cell_type": "markdown",
   "metadata": {},
   "source": [
    "# Analysis of vegetation cover, its density and patchiness"
   ]
  },
  {
   "cell_type": "code",
   "execution_count": 43,
   "metadata": {},
   "outputs": [
    {
     "data": {
      "image/png": "[encoded data removed]",
      "text/plain": [
       "<matplotlib.figure.Figure at 0x7faadc22d080>"
      ]
     },
     "metadata": {},
     "output_type": "display_data"
    }
   ],
   "source": [
    "from matplotlib import pyplot as plt\n",
    "\n",
    "# Plot the global densities at each time step\n",
    "\n",
    "total = (stats.Degraded+stats.Vegetated+stats.Empty)\n",
    "plt.plot(stats.Degraded/(total), label = r'$\\rho_-$')\n",
    "plt.plot(stats.Vegetated/(total), label = r'$\\rho_+$')\n",
    "plt.legend()\n",
    "plt.xlabel('t')\n",
    "plt.ylim([0,1])\n",
    "plt.title(\"Densities of vegetated and degraded states\")\n",
    "plt.show()"
   ]
  },
  {
   "cell_type": "markdown",
   "metadata": {},
   "source": [
    "## Plotting indicators of patch formation\n",
    "\n",
    "   ### q+|+ average probability of having vegetated neighbours next to a vegetated site\n",
    "   ### q-|+  average probability of having vegetated neighbours next to a degraded site\n",
    "### c++ indicator of patchiness, i.e. vegetation cover consists of clusters divided by empty or degraded sites"
   ]
  },
  {
   "cell_type": "code",
   "execution_count": 44,
   "metadata": {},
   "outputs": [
    {
     "data": {
      "image/png": "[encoded data removed]",
      "text/plain": [
       "<matplotlib.figure.Figure at 0x7faadc10fc88>"
      ]
     },
     "metadata": {},
     "output_type": "display_data"
    }
   ],
   "source": [
    "# Plot q+|+ and q-|+\n",
    "plt.plot(stats.qplusplus, label = r'$q_{+|+}$')\n",
    "plt.plot(stats.qminusplus, label = r'$q_{-|+}$')\n",
    "plt.legend()\n",
    "plt.xlabel('t')\n",
    "plt.ylim([0,1])\n",
    "plt.ylabel('Local densities')\n",
    "plt.show()"
   ]
  },
  {
   "cell_type": "code",
   "execution_count": 45,
   "metadata": {},
   "outputs": [
    {
     "name": "stderr",
     "output_type": "stream",
     "text": [
      "/home/sesegma/anaconda3/lib/python3.6/site-packages/matplotlib/axes/_axes.py:545: UserWarning: No labelled objects found. Use label='...' kwarg on individual plots.\n",
      "  warnings.warn(\"No labelled objects found. \"\n"
     ]
    },
    {
     "data": {
      "image/png": "[encoded data removed]",
      "text/plain": [
       "<matplotlib.figure.Figure at 0x7faadb96acf8>"
      ]
     },
     "metadata": {},
     "output_type": "display_data"
    }
   ],
   "source": [
    "# Plot c++\n",
    "plt.plot(stats.qplusplus/(stats.Vegetated/(total)))\n",
    "plt.legend()\n",
    "plt.ylabel('c++')\n",
    "plt.xlabel('t')\n",
    "plt.show()"
   ]
  },
  {
   "cell_type": "markdown",
   "metadata": {},
   "source": [
    "## Infrequent rainfall simulation\n",
    "\n",
    "The initial conditions and parameters used are the same as in fig. 3 of the 2013 paper by S. Kefi et al.: m = 0.1, c = 0.3, b = 0.4, d = 0.2, f = 0.8, r = 0, delta = 0. rhoplus = 0.1, rho_min = 0.8\n",
    "\n",
    "The rain period is 10 steps, drought period is also 10 steps. These and other parameters can be reset in the accompanying .json file\n",
    "\n",
    "### Run the cell below to gather your own data. Otherwise the data will be read from the files that are supplied "
   ]
  },
  {
   "cell_type": "code",
   "execution_count": 46,
   "metadata": {},
   "outputs": [
    {
     "data": {
      "text/plain": [
       "'\\n# run model for 400 steps\\nmodel_rain = EcoModel(0.4, 0.1, \"ecosystem/config_file_rain.json\")\\n# keep track of time\\nstart_time = time.time()\\nfor i in range(700):\\n    model_rain.step()\\n    \\nprint(\"Time simulation took:\", time.time()-start_time)\\n\\n\\n#stats = model.datacollector.get_model_vars_dataframe()\\n#stats.to_csv(output_dir+\"stats_\"+period+\".csv\", sep=\\'\\t\\')\\n'"
      ]
     },
     "execution_count": 46,
     "metadata": {},
     "output_type": "execute_result"
    }
   ],
   "source": [
    "# Uncomment the following lines to run the model and save the output into your own file\n",
    "'''\n",
    "# run model for 400 steps\n",
    "model_rain = EcoModel(0.4, 0.1, \"ecosystem/config_file_rain.json\")\n",
    "# keep track of time\n",
    "start_time = time.time()\n",
    "for i in range(700):\n",
    "    model_rain.step()\n",
    "    \n",
    "print(\"Time simulation took:\", time.time()-start_time)\n",
    "\n",
    "\n",
    "#stats = model.datacollector.get_model_vars_dataframe()\n",
    "#stats.to_csv(output_dir+\"stats_\"+period+\".csv\", sep='\\t')\n",
    "'''"
   ]
  },
  {
   "cell_type": "markdown",
   "metadata": {},
   "source": [
    "## The following analysis shows how the state of the system depends on rainfall patterns.\n"
   ]
  },
  {
   "cell_type": "code",
   "execution_count": 47,
   "metadata": {},
   "outputs": [
    {
     "data": {
      "image/png": "[encoded data removed]",
      "text/plain": [
       "<matplotlib.figure.Figure at 0x7faadc12de48>"
      ]
     },
     "metadata": {},
     "output_type": "display_data"
    }
   ],
   "source": [
    "# read from csv's\n",
    "output_dir = \"output/\"\n",
    "period = \"100\" # also can be 10, 25, 50\n",
    "stats = pd.read_csv(output_dir+\"stats_\"+period+\".csv\", delimiter='\\t')\n",
    "\n",
    "total = (stats.Degraded+stats.Vegetated+stats.Empty)\n",
    "\n",
    "# throw away data after density of vegetated sites becomes too low\n",
    "for i in range(len(stats.Vegetated)):\n",
    "    if (stats.Vegetated[i] / total[i]) < 0.01:\n",
    "        stop = i\n",
    "        break\n",
    "    else:\n",
    "        stop = 500\n",
    "stats = stats[:stop + 1]\n",
    "\n",
    "# figure with rainfall addition\n",
    "# plot the global densities at each time step\n",
    "total = (stats.Degraded+stats.Vegetated+stats.Empty)\n",
    "plt.plot(stats.Degraded/(total), label = r'$\\rho_-$', c='r')\n",
    "plt.plot(stats.Vegetated/(total), label = r'$\\rho_+$', c='g')\n",
    "plt.legend(loc='center right')\n",
    "plt.ylabel('Global Densities')\n",
    "plt.xlabel('t')\n",
    "\n",
    "# add rainfall color to plot\n",
    "plt.xlim([0, stop + 1])\n",
    "plt.ylim([0, 1])\n",
    "for i in [j for j in range(0, 500, int(period) * 2)]:\n",
    "    plt.axvspan(i, i+int(period), facecolor='b', alpha=0.2)\n",
    "plt.show()"
   ]
  },
  {
   "cell_type": "code",
   "execution_count": 48,
   "metadata": {},
   "outputs": [
    {
     "data": {
      "image/png": "[encoded data removed]",
      "text/plain": [
       "<matplotlib.figure.Figure at 0x7faadb94d780>"
      ]
     },
     "metadata": {},
     "output_type": "display_data"
    }
   ],
   "source": [
    "# plotting establishment probability\n",
    "plt.plot(stats.b, label = 'b', c='b')\n",
    "plt.ylabel('Establishment probability (b)')\n",
    "plt.xlabel('t')\n",
    "plt.xlim([0, stop + 1])\n",
    "plt.ylim([0, 0.5])\n",
    "for i in [j for j in range(0, 500, int(period) * 2)]:\n",
    "    plt.axvspan(i, i+int(period), facecolor='b', alpha=0.2)\n",
    "plt.show()"
   ]
  },
  {
   "cell_type": "code",
   "execution_count": 36,
   "metadata": {},
   "outputs": [
    {
     "data": {
      "image/png": "[encoded data removed]",
      "text/plain": [
       "<matplotlib.figure.Figure at 0x7faadbed5f98>"
      ]
     },
     "metadata": {},
     "output_type": "display_data"
    }
   ],
   "source": [
    "# plotting flowlength\n",
    "plt.plot(stats.flowlength, label = 'flowlength', c='b')\n",
    "plt.ylabel('FL')\n",
    "plt.xlabel('t')\n",
    "plt.xlim([0, stop + 1])\n",
    "for i in [j for j in range(0, 500, int(period) * 2)]:\n",
    "    plt.axvspan(i, i+int(period), facecolor='b', alpha=0.2)\n",
    "plt.show()"
   ]
  },
  {
   "cell_type": "code",
   "execution_count": 37,
   "metadata": {},
   "outputs": [
    {
     "data": {
      "image/png": "[encoded data removed]",
      "text/plain": [
       "<matplotlib.figure.Figure at 0x7faadc0fb748>"
      ]
     },
     "metadata": {},
     "output_type": "display_data"
    }
   ],
   "source": [
    "# plotting the clustering index\n",
    "plt.plot(stats.qplusplus/(stats.Vegetated/(total)), label = r'$c_{++}$', c='b')\n",
    "plt.xlim([0, stop + 1])\n",
    "plt.ylabel('$c_{++}$')\n",
    "plt.xlabel('t')\n",
    "for i in [j for j in range(0, 500, int(period) * 2)]:\n",
    "    plt.axvspan(i, i+int(period), facecolor='b', alpha=0.2)\n",
    "plt.show()"
   ]
  },
  {
   "cell_type": "code",
   "execution_count": null,
   "metadata": {
    "collapsed": true
   },
   "outputs": [],
   "source": []
  }
 ],
 "metadata": {
  "kernelspec": {
   "display_name": "Python 3",
   "language": "python",
   "name": "python3"
  },
  "language_info": {
   "codemirror_mode": {
    "name": "ipython",
    "version": 3
   },
   "file_extension": ".py",
   "mimetype": "text/x-python",
   "name": "python",
   "nbconvert_exporter": "python",
   "pygments_lexer": "ipython3",
   "version": "3.6.4"
  }
 },
 "nbformat": 4,
 "nbformat_minor": 2
}
