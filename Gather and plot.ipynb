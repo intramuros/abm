{
 "cells": [
  {
   "cell_type": "code",
   "execution_count": 1,
   "metadata": {
    "collapsed": true
   },
   "outputs": [],
   "source": [
    "output_dir = \"output/\"\n",
    "# run.py\n",
    "from mesa.batchrunner import BatchRunner\n",
    "\n",
    "from ecosystem.model import EcoModel\n",
    "\n",
    "# fixed_params = {\"width\": 50,\n",
    "#                 \"height\": 50,\n",
    "#                 \"b\": 0.5,\n",
    "#                 \"m\": 0.1}\n",
    "\n",
    "# variable_params = {\"b\": range(0, 1, 2)}\n",
    "\n",
    "# batch_run = BatchRunner(EcoModel,\n",
    "#                         fixed_parameters=fixed_params,\n",
    "#                         variable_parameters=None,  \n",
    "#                         iterations=5,\n",
    "#                         max_steps=100)\n",
    "# batch_run.run_model()\n"
   ]
  },
  {
   "cell_type": "code",
   "execution_count": 2,
   "metadata": {
    "scrolled": true
   },
   "outputs": [
    {
     "name": "stderr",
     "output_type": "stream",
     "text": [
      "/Users/efiathieniti/miniconda3/envs/py35/lib/python3.5/site-packages/numpy/core/fromnumeric.py:2889: RuntimeWarning: Mean of empty slice.\n",
      "  out=out, **kwargs)\n",
      "/Users/efiathieniti/miniconda3/envs/py35/lib/python3.5/site-packages/numpy/core/_methods.py:80: RuntimeWarning: invalid value encountered in double_scalars\n",
      "  ret = ret.dtype.type(ret / rcount)\n",
      "/Users/efiathieniti/Dropbox/UVA/ABM/abm/ecosystem/model.py:112: RuntimeWarning: invalid value encountered in double_scalars\n",
      "  * self.d_s / ((1 - q_flowlength) ** 2 * self.L)\n"
     ]
    },
    {
     "name": "stdout",
     "output_type": "stream",
     "text": [
      "233.18193197250366\n"
     ]
    }
   ],
   "source": [
    "from ecosystem.model import EcoModel\n",
    "from mesa.datacollection import DataCollector\n",
    "import time\n",
    "import json\n",
    "start_time = time.time()\n",
    "\n",
    "# fixed_params = {\"width\": 50,\n",
    "#                 \"height\": 50,\n",
    "#                 \"b\": 0.5,\n",
    "#                 \"m\": 0.1}\n",
    "\n",
    "m=0.3\n",
    "b=0.55\n",
    "# Switch to use model with flowlength extension\n",
    "with_FL = True\n",
    "\n",
    "if with_FL:\n",
    "    config_file = \"ecosystem/config_file.json\"\n",
    "else:\n",
    "    config_file = \"ecosystem/config_file_figure_3.json\"\n",
    "\n",
    "params = json.load(open(config_file))\n",
    "m=0.2\n",
    "b=0.55\n",
    "f =  params[\"f\"]\n",
    "d = params[\"d\"]\n",
    "c = params[\"c\"]\n",
    "r = params[\"r\"]\n",
    "delta = params[\"delta\"]\n",
    "alpha_f = params[\"alpha_feedback\"]\n",
    "alpha_b = params[\"alpha_bare\"]\n",
    "\n",
    "alpha_f=1.75\n",
    "\n",
    "model = EcoModel(b, m, d,f,c,r,delta, alpha_f, alpha_b, config_file)\n",
    "\n",
    "for i in range(400):\n",
    "    model.step()\n",
    "    \n",
    "print(time.time()-start_time)"
   ]
  },
  {
   "cell_type": "code",
   "execution_count": 3,
   "metadata": {},
   "outputs": [
    {
     "data": {
      "text/html": [
       "<div>\n",
       "<table border=\"1\" class=\"dataframe\">\n",
       "  <thead>\n",
       "    <tr style=\"text-align: right;\">\n",
       "      <th></th>\n",
       "      <th>Degraded</th>\n",
       "      <th>Empty</th>\n",
       "      <th>Vegetated</th>\n",
       "      <th>b</th>\n",
       "      <th>flowlength</th>\n",
       "      <th>qminusminus</th>\n",
       "      <th>qminusplus</th>\n",
       "      <th>qplusplus</th>\n",
       "      <th>total</th>\n",
       "    </tr>\n",
       "  </thead>\n",
       "  <tbody>\n",
       "    <tr>\n",
       "      <th>0</th>\n",
       "      <td>512</td>\n",
       "      <td>454</td>\n",
       "      <td>9034</td>\n",
       "      <td>0.547847</td>\n",
       "      <td>0.059711</td>\n",
       "      <td>0.086957</td>\n",
       "      <td>0.052136</td>\n",
       "      <td>0.902369</td>\n",
       "      <td>10000</td>\n",
       "    </tr>\n",
       "    <tr>\n",
       "      <th>1</th>\n",
       "      <td>184</td>\n",
       "      <td>2397</td>\n",
       "      <td>7419</td>\n",
       "      <td>0.547973</td>\n",
       "      <td>0.056241</td>\n",
       "      <td>0.258427</td>\n",
       "      <td>0.016815</td>\n",
       "      <td>0.742014</td>\n",
       "      <td>10000</td>\n",
       "    </tr>\n",
       "    <tr>\n",
       "      <th>2</th>\n",
       "      <td>295</td>\n",
       "      <td>3083</td>\n",
       "      <td>6622</td>\n",
       "      <td>0.543347</td>\n",
       "      <td>0.184545</td>\n",
       "      <td>0.368117</td>\n",
       "      <td>0.027899</td>\n",
       "      <td>0.677665</td>\n",
       "      <td>10000</td>\n",
       "    </tr>\n",
       "    <tr>\n",
       "      <th>3</th>\n",
       "      <td>428</td>\n",
       "      <td>3501</td>\n",
       "      <td>6071</td>\n",
       "      <td>0.539806</td>\n",
       "      <td>0.282794</td>\n",
       "      <td>0.437389</td>\n",
       "      <td>0.038297</td>\n",
       "      <td>0.635892</td>\n",
       "      <td>10000</td>\n",
       "    </tr>\n",
       "    <tr>\n",
       "      <th>4</th>\n",
       "      <td>593</td>\n",
       "      <td>3772</td>\n",
       "      <td>5635</td>\n",
       "      <td>0.536709</td>\n",
       "      <td>0.368696</td>\n",
       "      <td>0.483162</td>\n",
       "      <td>0.050799</td>\n",
       "      <td>0.599645</td>\n",
       "      <td>10000</td>\n",
       "    </tr>\n",
       "    <tr>\n",
       "      <th>5</th>\n",
       "      <td>693</td>\n",
       "      <td>4009</td>\n",
       "      <td>5298</td>\n",
       "      <td>0.550000</td>\n",
       "      <td>0.445179</td>\n",
       "      <td>0.526584</td>\n",
       "      <td>0.055917</td>\n",
       "      <td>0.579841</td>\n",
       "      <td>10000</td>\n",
       "    </tr>\n",
       "    <tr>\n",
       "      <th>6</th>\n",
       "      <td>781</td>\n",
       "      <td>4181</td>\n",
       "      <td>5038</td>\n",
       "      <td>0.550000</td>\n",
       "      <td>0.522597</td>\n",
       "      <td>0.548065</td>\n",
       "      <td>0.063220</td>\n",
       "      <td>0.554883</td>\n",
       "      <td>10000</td>\n",
       "    </tr>\n",
       "    <tr>\n",
       "      <th>7</th>\n",
       "      <td>918</td>\n",
       "      <td>4222</td>\n",
       "      <td>4860</td>\n",
       "      <td>0.550000</td>\n",
       "      <td>0.577120</td>\n",
       "      <td>0.572665</td>\n",
       "      <td>0.070679</td>\n",
       "      <td>0.548045</td>\n",
       "      <td>10000</td>\n",
       "    </tr>\n",
       "    <tr>\n",
       "      <th>8</th>\n",
       "      <td>1013</td>\n",
       "      <td>4342</td>\n",
       "      <td>4645</td>\n",
       "      <td>0.550000</td>\n",
       "      <td>0.631422</td>\n",
       "      <td>0.598693</td>\n",
       "      <td>0.075081</td>\n",
       "      <td>0.537352</td>\n",
       "      <td>10000</td>\n",
       "    </tr>\n",
       "    <tr>\n",
       "      <th>9</th>\n",
       "      <td>1116</td>\n",
       "      <td>4323</td>\n",
       "      <td>4561</td>\n",
       "      <td>0.550000</td>\n",
       "      <td>0.699421</td>\n",
       "      <td>0.615187</td>\n",
       "      <td>0.077834</td>\n",
       "      <td>0.541109</td>\n",
       "      <td>10000</td>\n",
       "    </tr>\n",
       "  </tbody>\n",
       "</table>\n",
       "</div>"
      ],
      "text/plain": [
       "   Degraded  Empty  Vegetated         b  flowlength  qminusminus  qminusplus  \\\n",
       "0       512    454       9034  0.547847    0.059711     0.086957    0.052136   \n",
       "1       184   2397       7419  0.547973    0.056241     0.258427    0.016815   \n",
       "2       295   3083       6622  0.543347    0.184545     0.368117    0.027899   \n",
       "3       428   3501       6071  0.539806    0.282794     0.437389    0.038297   \n",
       "4       593   3772       5635  0.536709    0.368696     0.483162    0.050799   \n",
       "5       693   4009       5298  0.550000    0.445179     0.526584    0.055917   \n",
       "6       781   4181       5038  0.550000    0.522597     0.548065    0.063220   \n",
       "7       918   4222       4860  0.550000    0.577120     0.572665    0.070679   \n",
       "8      1013   4342       4645  0.550000    0.631422     0.598693    0.075081   \n",
       "9      1116   4323       4561  0.550000    0.699421     0.615187    0.077834   \n",
       "\n",
       "   qplusplus  total  \n",
       "0   0.902369  10000  \n",
       "1   0.742014  10000  \n",
       "2   0.677665  10000  \n",
       "3   0.635892  10000  \n",
       "4   0.599645  10000  \n",
       "5   0.579841  10000  \n",
       "6   0.554883  10000  \n",
       "7   0.548045  10000  \n",
       "8   0.537352  10000  \n",
       "9   0.541109  10000  "
      ]
     },
     "execution_count": 3,
     "metadata": {},
     "output_type": "execute_result"
    }
   ],
   "source": [
    "stats = model.datacollector.get_model_vars_dataframe()\n",
    "stats['total'] = (stats.Degraded+stats.Vegetated+stats.Empty)\n",
    "stats.head(10)\n"
   ]
  },
  {
   "cell_type": "code",
   "execution_count": 4,
   "metadata": {},
   "outputs": [
    {
     "data": {
      "image/png": "[encoded data removed]",
      "text/plain": [
       "<matplotlib.figure.Figure at 0x110701550>"
      ]
     },
     "metadata": {},
     "output_type": "display_data"
    }
   ],
   "source": [
    "# Figure 3a \n",
    "# Plot the global densities at each time step\n",
    "\n",
    "from matplotlib import pyplot as plt\n",
    "total = (stats.Degraded+stats.Vegetated+stats.Empty)\n",
    "plt.plot(stats.Degraded/(total), label = r'$\\rho_-$')\n",
    "plt.plot(stats.Vegetated/(total), label = r'$\\rho_+$')\n",
    "plt.legend()\n",
    "plt.xlabel('t')\n",
    "plt.ylim([0,1])\n",
    "plt.ylabel('Global densities')\n",
    "plt.savefig(output_dir+\"Global_densities_delta_%s_c_%s_r_%s_d_%s_f%s_m_%s_b_%s_FL_%s.png\"%(delta,c,r,d,f,m,b, with_FL), format = 'png' )\n",
    "plt.show()"
   ]
  },
  {
   "cell_type": "code",
   "execution_count": 5,
   "metadata": {},
   "outputs": [
    {
     "data": {
      "image/png": "[encoded data removed]",
      "text/plain": [
       "<matplotlib.figure.Figure at 0x110701978>"
      ]
     },
     "metadata": {},
     "output_type": "display_data"
    }
   ],
   "source": [
    "# Plot local densities\n",
    "# q+|+ number of vegetated neighbours of vegetates sites\n",
    "# q-|+ number of vegetated neighbours of degraded sites\n",
    "\n",
    "from matplotlib import pyplot as plt\n",
    "\n",
    "plt.plot(stats.qplusplus, label = r'$q_{+|+}$')\n",
    "plt.plot(stats.qminusplus, label = r'$q_{-|+}$')\n",
    "plt.legend()\n",
    "plt.xlabel('t')\n",
    "plt.ylim([0,1])\n",
    "plt.ylabel('Local densities')\n",
    "plt.savefig(output_dir + \"Local_densities_delta_%s_c_%s_r_%s_d_%s_f%s_m_%s_b_%s_FL_%s.png\"%(delta,c,r,d,f,m,b, with_FL), format = 'png' )\n",
    "plt.show()\n",
    "\n"
   ]
  },
  {
   "cell_type": "code",
   "execution_count": 6,
   "metadata": {},
   "outputs": [
    {
     "name": "stderr",
     "output_type": "stream",
     "text": [
      "/Users/efiathieniti/miniconda3/envs/py35/lib/python3.5/site-packages/matplotlib/axes/_axes.py:545: UserWarning: No labelled objects found. Use label='...' kwarg on individual plots.\n",
      "  warnings.warn(\"No labelled objects found. \"\n"
     ]
    },
    {
     "data": {
      "image/png": "[encoded data removed]",
      "text/plain": [
       "<matplotlib.figure.Figure at 0x114f320f0>"
      ]
     },
     "metadata": {},
     "output_type": "display_data"
    }
   ],
   "source": [
    "from matplotlib import pyplot as plt\n",
    "plt.plot(stats.qplusplus/(stats.Vegetated/(total)))\n",
    "plt.legend()\n",
    "plt.ylabel('c++')\n",
    "plt.xlabel('t')\n",
    "plt.savefig(output_dir + \"Clustering_intensity_delta_%s_c_%s_r_%s_d_%s_f%s_m_%s_b_%s_FL_%s.png\"%(delta,c,r,d,f,m,b, with_FL), format = 'png' )\n",
    "plt.show()\n"
   ]
  },
  {
   "cell_type": "code",
   "execution_count": 7,
   "metadata": {
    "collapsed": true
   },
   "outputs": [],
   "source": [
    "# Pair approximation model\n",
    "\n",
    "def pair_approx_model(r_ev,r_vv,):\n",
    "    \n",
    "    ## r_vv : rho_{vegetaged|vegetated}\n",
    "    ## r_vd : rho_{vegetaged|degraded}\n",
    "    dr_vv = 2* r_ev* w_ev - 2 * r_vv * w_ve\n",
    "    dr_vd = r_ed * w_ev + r_ev*w_ed - r_vd*(w_ve + w_de)\n",
    "    dr_dd = 2* r_ed * w_ed - 2* r_dd*w_de\n",
    "    dr_v = r_e*w_ev - r_v*w_ve\n",
    "    dr_d = r_e*w_ed - r_d*w_de\n",
    "    \n",
    "    \n",
    "    return [dr_vv,dr_vd,dr_dd,dr_v,dr_d]"
   ]
  },
  {
   "cell_type": "code",
   "execution_count": 8,
   "metadata": {
    "collapsed": true
   },
   "outputs": [],
   "source": [
    "def pair_approx_model(r_init,t, delta, c , r, d, f, m, b,z):\n",
    "    \n",
    "    ## r_pp: rho_{vegetaged|vegetated}\n",
    "    ## r_pm : rho_{vegetaged|degraded}\n",
    "    ## r_pp, r_pm, r_mm, r_00\n",
    "    r_p, r_0 ,r_m, r_pp, r_pm, r_p0, r_mm, r_m0, r_00 = r_init\n",
    "    \n",
    "      \n",
    "    dr_pm = d*(r_p - r_pm - r_pp ) + ( r_m - r_mm - r_pm) * ( delta * r_p + \\\n",
    "            (z-1)/z*(1-delta) * (r_p - r_pm - r_pp)/(1-r_p-r_m) ) *  (b-c*r_p) \\\n",
    "            - r_pm*(r + f/z + (z-1)/z*f*(r_pm/r_m) + m)\n",
    "    \n",
    "    dr_pp = 2*(r_p - r_pm - r_pp ) * (delta * r_p +  (1-delta)/z + \\\n",
    "            (z-1)/z*(1-delta) * (r_p - r_pm - r_pp)/(1-r_p-r_m)) *  (b-c*r_p) - 2*r_pp * m \n",
    "            \n",
    "    dr_mm = 2*d*(r_m - r_mm - r_pm ) - 2*r_mm*(r + (z-1)/z*f*r_pm/r_m )\n",
    "    \n",
    "    dr_p = (delta * r_p + (1-delta)*(r_p + r_pm - r_pp)/( 1- r_p - r_m )) * (b - c*r_p)*\\\n",
    "            (1 - r_p - r_m) - m*r_p\n",
    "        \n",
    "    dr_m = d*(1-r_p - r_m) - (r + f * r_pm / r_m) * r_m\n",
    "    \n",
    "#     CONSERVATION ecuations\n",
    "\n",
    "    dr_0 =  - dr_p - dr_m\n",
    "    dr_p0 = dr_p - dr_pp - dr_pm\n",
    "    dr_m0 = dr_m - dr_mm - dr_pm\n",
    "    dr_00 = dr_0 - dr_p0 - dr_m0\n",
    "\n",
    "    \n",
    "    return [dr_p, dr_0 ,dr_m, dr_pp, dr_pm, dr_p0, dr_mm, dr_m0, dr_00] \n",
    "\n",
    "    \n",
    "  \n",
    "#r_pp = r_p - ( r_p0 + r_pm )\n",
    "\n",
    "#r_00 = r_0 - (r_0p + r_0m)\n",
    "#r_00 = r_0 - (r_p0 + r_0m)\n",
    " \n",
    "#r_mm = r_m - (r_m0 + r_mp)\n",
    "#r_mm = r_m - (r_0m + r_pm)\n",
    "\n"
   ]
  },
  {
   "cell_type": "code",
   "execution_count": 9,
   "metadata": {
    "collapsed": true
   },
   "outputs": [],
   "source": [
    "import numpy as np\n",
    "from scipy.integrate import odeint\n",
    "import matplotlib.pyplot as plt\n",
    "\n",
    "delta = 0\n",
    "c = 0.3\n",
    "r = 0\n",
    "d = 0.2\n",
    "f = 0.8\n",
    "m = 0.1\n",
    "b = 0.4\n",
    "r_0 = 1/3\n",
    "\n",
    "r_m = 1/3\n",
    "r_p = 1/3\n",
    "\n",
    "r_0 = 0.1\n",
    "\n",
    "r_m = 0.1\n",
    "r_p = 0.8\n",
    "z = 4\n",
    "\n",
    "r_pp = r_p*r_p\n",
    "r_pm = r_p*r_m\n",
    "r_p0 = r_p*r_0\n",
    "r_mm = r_m*r_m\n",
    "r_m0 = r_m*r_0\n",
    "r_00 = r_0*r_0\n",
    "    \n",
    "r_init = [r_p, r_0 ,r_m, r_pp, r_pm, r_p0, r_mm, r_m0, r_00]\n",
    "\n",
    "t = np.linspace(0, 100, 101)\n",
    "\n",
    "\n",
    "y = odeint(pair_approx_model, r_init, t ,args = (delta, c , r, d, f, m, b,z))\n"
   ]
  },
  {
   "cell_type": "code",
   "execution_count": 10,
   "metadata": {},
   "outputs": [
    {
     "name": "stdout",
     "output_type": "stream",
     "text": [
      "[ 0.1         0.16175557  0.19525149  0.214923    0.22684927  0.23412553\n",
      "  0.23853466  0.24116773  0.24270796  0.24358477  0.24406635  0.24431812\n",
      "  0.24444042  0.24449276  0.24450953  0.24450992  0.24450411  0.24449711\n",
      "  0.24449112  0.24448681  0.24448418  0.2444829   0.2444826   0.24448293\n",
      "  0.24448361  0.24448445  0.24448532  0.24448613  0.24448684  0.24448743\n",
      "  0.24448791  0.24448828  0.24448857  0.24448878  0.24448894  0.24448905\n",
      "  0.24448912  0.24448917  0.2444892   0.24448922  0.24448923  0.24448924\n",
      "  0.24448924  0.24448924  0.24448924  0.24448924  0.24448924  0.24448924\n",
      "  0.24448924  0.24448924  0.24448924  0.24448923  0.24448923  0.24448923\n",
      "  0.24448923  0.24448923  0.24448923  0.24448923  0.24448923  0.24448923\n",
      "  0.24448923  0.24448923  0.24448923  0.24448923  0.24448923  0.24448923\n",
      "  0.24448923  0.24448923  0.24448923  0.24448923  0.24448923  0.24448923\n",
      "  0.24448923  0.24448923  0.24448923  0.24448923  0.24448923  0.24448923\n",
      "  0.24448923  0.24448923  0.24448923  0.24448923  0.24448923  0.24448923\n",
      "  0.24448923  0.24448923  0.24448923  0.24448923  0.24448923  0.24448923\n",
      "  0.24448923  0.24448923  0.24448923  0.24448923  0.24448923  0.24448923\n",
      "  0.24448923  0.24448923  0.24448923  0.24448923  0.24448923]\n"
     ]
    },
    {
     "data": {
      "image/png": "[encoded data removed]",
      "text/plain": [
       "<matplotlib.figure.Figure at 0x11516e4a8>"
      ]
     },
     "metadata": {},
     "output_type": "display_data"
    }
   ],
   "source": [
    "print(y.T[1])\n",
    "plt.plot(y.T[0], label = \"vegetated\" )\n",
    "plt.plot(y.T[1], label = \"empty\")\n",
    "plt.plot(y.T[2], label = \"degraded\")\n",
    "plt.legend()\n",
    "\n",
    "plt.show()"
   ]
  },
  {
   "cell_type": "code",
   "execution_count": 11,
   "metadata": {},
   "outputs": [
    {
     "data": {
      "image/png": "[encoded data removed]",
      "text/plain": [
       "<matplotlib.figure.Figure at 0x1163f40f0>"
      ]
     },
     "metadata": {},
     "output_type": "display_data"
    }
   ],
   "source": [
    "import numpy as np\n",
    "from scipy.integrate import odeint\n",
    "import matplotlib.pyplot as plt\n",
    "\n",
    "# function that returns dy/dt\n",
    "def model(y,t):\n",
    "    k = 0.3\n",
    "    dydt = -k * y\n",
    "    return dydt\n",
    "\n",
    "\n",
    "\n",
    "# initial condition\n",
    "y0 = 5\n",
    "\n",
    "# time points\n",
    "t = np.linspace(0,20)\n",
    "\n",
    "# solve ODE\n",
    "y = odeint(model,y0,t)\n",
    "\n",
    "# plot results\n",
    "plt.plot(t,y)\n",
    "plt.xlabel('time')\n",
    "plt.ylabel('y(t)')\n",
    "plt.show()"
   ]
  },
  {
   "cell_type": "code",
   "execution_count": null,
   "metadata": {
    "collapsed": true
   },
   "outputs": [],
   "source": []
  },
  {
   "cell_type": "code",
   "execution_count": null,
   "metadata": {
    "collapsed": true
   },
   "outputs": [],
   "source": []
  }
 ],
 "metadata": {
  "kernelspec": {
   "display_name": "Python 3",
   "language": "python",
   "name": "python3"
  },
  "language_info": {
   "codemirror_mode": {
    "name": "ipython",
    "version": 3
   },
   "file_extension": ".py",
   "mimetype": "text/x-python",
   "name": "python",
   "nbconvert_exporter": "python",
   "pygments_lexer": "ipython3",
   "version": "3.5.3"
  }
 },
 "nbformat": 4,
 "nbformat_minor": 2
}
