{
 "cells": [
  {
   "cell_type": "markdown",
   "metadata": {},
   "source": [
    "# This notebook provides analysis tools for the Dryland Dynamics model.\n",
    "\n",
    "### The implementation of the model is in the ``ecosystem/`` folder that includes Python files and a .json files with initial parameters. \n",
    "\n",
    "The dryland dynamics model is an agent-based simulation of spatial dynamics of vegetation in arid conditions. The environment is a grid of cells, representing a square piece of land. Each cell can either be degraded {-}, empty (unoccupied) {0} or vegetated {+}. The possible transitions are:\n",
    "\n",
    "    degraded to empty: {-} to {0}\n",
    "    empty to degraded: {0} to {-}\n",
    "    empty to vegetated: {0} to {+}\n",
    "    vegetated to empty: {+} to {0}\n",
    "In this notebook some basic properties of the model are studied including density of vegetated states, flowlength, and clustering behaviour."
   ]
  },
  {
   "cell_type": "code",
   "execution_count": null,
   "metadata": {
    "collapsed": true
   },
   "outputs": [],
   "source": [
    "# Import the model and necessary packages\n",
    "from ecosystem.model import EcoModel\n",
    "import pandas as pd\n",
    "import time\n"
   ]
  },
  {
   "cell_type": "code",
   "execution_count": null,
   "metadata": {
    "scrolled": true
   },
   "outputs": [],
   "source": [
    "b = 0.4  # establishment probability\n",
    "m = 0.1  # mortality rate\n",
    "\n",
    "model = EcoModel(0.4, 0.1, \"ecosystem/config_file.json\")\n",
    "\n",
    "num_steps = 50 # number of simulation steps\n",
    "\n",
    "start_time = time.time()\n",
    "for i in range(num_steps):\n",
    "    model.step()\n",
    "    \n",
    "print(time.time()-start_time)"
   ]
  },
  {
   "cell_type": "code",
   "execution_count": null,
   "metadata": {
    "scrolled": true
   },
   "outputs": [],
   "source": [
    "stats = model.datacollector.get_model_vars_dataframe()\n",
    "stats"
   ]
  },
  {
   "cell_type": "markdown",
   "metadata": {},
   "source": [
    "# Analysis of vegetation cover, its density and patchiness"
   ]
  },
  {
   "cell_type": "code",
   "execution_count": null,
   "metadata": {
    "collapsed": true
   },
   "outputs": [],
   "source": [
    "from matplotlib import pyplot as plt"
   ]
  },
  {
   "cell_type": "code",
   "execution_count": null,
   "metadata": {},
   "outputs": [],
   "source": [
    "# Plot the global densities at each time step\n",
    "\n",
    "total = (stats.Degraded+stats.Vegetated+stats.Empty)\n",
    "plt.plot(stats.Vegetated/(total), c = 'g',label = r'$\\rho_+$')\n",
    "plt.plot(stats.Degraded/(total), c = 'r', label = r'$\\rho_-$')\n",
    "plt.legend()\n",
    "plt.xlabel('t')\n",
    "plt.ylim([0,1])\n",
    "plt.title(\"Densities of vegetated and degraded states\")\n",
    "plt.show()"
   ]
  },
  {
   "cell_type": "markdown",
   "metadata": {},
   "source": [
    "## Plotting indicators of patch formation\n",
    "\n",
    "   ### q+|+ average probability of having vegetated neighbours next to a vegetated site\n",
    "   ### q-|+  average probability of having vegetated neighbours next to a degraded site\n",
    "### c++ indicator of patchiness, i.e. vegetation cover consists of clusters divided by empty or degraded sites"
   ]
  },
  {
   "cell_type": "code",
   "execution_count": null,
   "metadata": {},
   "outputs": [],
   "source": [
    "# Plot q+|+ and q-|+\n",
    "plt.plot(stats.qplusplus, label = r'$q_{+|+}$')\n",
    "plt.plot(stats.qminusplus, label = r'$q_{-|+}$')\n",
    "plt.legend()\n",
    "plt.xlabel('t')\n",
    "plt.ylim([0,1])\n",
    "plt.ylabel('Local densities')\n",
    "plt.show()"
   ]
  },
  {
   "cell_type": "code",
   "execution_count": null,
   "metadata": {},
   "outputs": [],
   "source": [
    "# Plot c++\n",
    "plt.plot(stats.qplusplus/(stats.Vegetated/(total)))\n",
    "plt.legend()\n",
    "plt.ylabel('c++')\n",
    "plt.xlabel('t')\n",
    "plt.show()"
   ]
  },
  {
   "cell_type": "markdown",
   "metadata": {},
   "source": [
    "## Infrequent rainfall simulation\n",
    "\n",
    "The initial conditions and parameters used are the same as in fig. 3 of the 2013 paper by S. Kefi et al.: m = 0.1, c = 0.3, b = 0.4, d = 0.2, f = 0.8, r = 0, delta = 0. rhoplus = 0.1, rho_min = 0.8\n",
    "\n",
    "The rain period is 10 steps, drought period is also 10 steps. These and other parameters can be reset in the accompanying .json file\n",
    "\n",
    "### Run the cell below to gather your own data. Otherwise the data will be read from the files that are supplied "
   ]
  },
  {
   "cell_type": "code",
   "execution_count": null,
   "metadata": {},
   "outputs": [],
   "source": [
    "# Uncomment the following lines to run the model and save the output into your own file\n",
    "'''\n",
    "# run model for n steps\n",
    "n = 400\n",
    "model_rain = EcoModel(0.4, 0.1, \"ecosystem/config_file_rain.json\")\n",
    "# keep track of time\n",
    "start_time = time.time()\n",
    "for i in range(n):\n",
    "    model_rain.step()\n",
    "    \n",
    "print(\"Time simulation took:\", time.time()-start_time)\n",
    "\n",
    "\n",
    "stats = model.datacollector.get_model_vars_dataframe()\n",
    "\n",
    "#Save into output folder\n",
    "output_dir = \"data/\"\n",
    "stats.to_csv(output_dir+\"stats.csv\", sep='\\t')\n",
    "'''"
   ]
  },
  {
   "cell_type": "markdown",
   "metadata": {},
   "source": [
    "## The following analysis shows how the state of the system depends on rainfall patterns.\n"
   ]
  },
  {
   "cell_type": "code",
   "execution_count": null,
   "metadata": {},
   "outputs": [],
   "source": [
    "# read from csv's\n",
    "data_dir = \"data/\"\n",
    "period = \"100\" # also can be 10, 25, 50, or 100\n",
    "stats = pd.read_csv(data_dir+\"stats_\"+period+\".csv\", delimiter='\\t')\n",
    "\n",
    "total = (stats.Degraded+stats.Vegetated+stats.Empty)\n",
    "\n",
    "# throw away data after density of vegetated sites becomes too low\n",
    "for i in range(len(stats.Vegetated)):\n",
    "    if (stats.Vegetated[i] / total[i]) < 0.01:\n",
    "        stop = i\n",
    "        break\n",
    "    else:\n",
    "        stop = 500\n",
    "stats = stats[:stop + 1]\n",
    "\n",
    "# figure with rainfall addition\n",
    "# plot the global densities at each time step\n",
    "total = (stats.Degraded+stats.Vegetated+stats.Empty)\n",
    "plt.plot(stats.Degraded/(total), label = r'$\\rho_-$', c='r')\n",
    "plt.plot(stats.Vegetated/(total), label = r'$\\rho_+$', c='g')\n",
    "plt.legend(loc='center right')\n",
    "plt.ylabel('Global Densities')\n",
    "plt.xlabel('t')\n",
    "\n",
    "# add rainfall color to plot\n",
    "plt.xlim([0, stop + 1])\n",
    "plt.ylim([0, 1])\n",
    "for i in [j for j in range(0, 500, int(period) * 2)]:\n",
    "    plt.axvspan(i, i+int(period), facecolor='b', alpha=0.2)\n",
    "plt.show()"
   ]
  },
  {
   "cell_type": "code",
   "execution_count": null,
   "metadata": {},
   "outputs": [],
   "source": [
    "# plotting establishment probability\n",
    "plt.plot(stats.b, label = 'b', c='b')\n",
    "plt.ylabel('Establishment probability (b)')\n",
    "plt.xlabel('t')\n",
    "plt.xlim([0, stop + 1])\n",
    "plt.ylim([0, 0.5])\n",
    "for i in [j for j in range(0, 500, int(period) * 2)]:\n",
    "    plt.axvspan(i, i+int(period), facecolor='b', alpha=0.2)\n",
    "plt.show()"
   ]
  },
  {
   "cell_type": "code",
   "execution_count": null,
   "metadata": {},
   "outputs": [],
   "source": [
    "# plotting flowlength\n",
    "plt.plot(stats.flowlength, label = 'flowlength', c='b')\n",
    "plt.ylabel('FL')\n",
    "plt.xlabel('t')\n",
    "plt.xlim([0, stop + 1])\n",
    "for i in [j for j in range(0, 500, int(period) * 2)]:\n",
    "    plt.axvspan(i, i+int(period), facecolor='b', alpha=0.2)\n",
    "plt.show()"
   ]
  },
  {
   "cell_type": "code",
   "execution_count": null,
   "metadata": {},
   "outputs": [],
   "source": [
    "# plotting the clustering index\n",
    "plt.plot(stats.qplusplus/(stats.Vegetated/(total)), label = r'$c_{++}$', c='b')\n",
    "plt.xlim([0, stop + 1])\n",
    "plt.ylabel('$c_{++}$')\n",
    "plt.xlabel('t')\n",
    "for i in [j for j in range(0, 500, int(period) * 2)]:\n",
    "    plt.axvspan(i, i+int(period), facecolor='b', alpha=0.2)\n",
    "plt.show()"
   ]
  },
  {
   "cell_type": "code",
   "execution_count": null,
   "metadata": {
    "collapsed": true
   },
   "outputs": [],
   "source": []
  }
 ],
 "metadata": {
  "kernelspec": {
   "display_name": "Python 3",
   "language": "python",
   "name": "python3"
  },
  "language_info": {
   "codemirror_mode": {
    "name": "ipython",
    "version": 3
   },
   "file_extension": ".py",
   "mimetype": "text/x-python",
   "name": "python",
   "nbconvert_exporter": "python",
   "pygments_lexer": "ipython3",
   "version": "3.6.4"
  }
 },
 "nbformat": 4,
 "nbformat_minor": 2
}
